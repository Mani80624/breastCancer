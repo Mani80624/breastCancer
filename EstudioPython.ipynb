{
 "cells": [
  {
   "cell_type": "code",
   "execution_count": 695,
   "id": "575d614a-f101-455e-8ee7-18fd55fc1be5",
   "metadata": {},
   "outputs": [],
   "source": [
    "import pandas as pd\n",
    "import matplotlib.pyplot as plt\n",
    "import numpy as np"
   ]
  },
  {
   "cell_type": "markdown",
   "id": "3e910d02-3d13-4392-ac29-8febaffba082",
   "metadata": {},
   "source": [
    "# Código extra para la interpretación de datos"
   ]
  },
  {
   "cell_type": "markdown",
   "id": "2337e1a8-e0f1-43f1-98cc-84355f010a82",
   "metadata": {},
   "source": [
    "## Clase para graficar los datos"
   ]
  },
  {
   "cell_type": "code",
   "execution_count": 909,
   "id": "da036e98-cb23-46f6-8f26-43b4f21da3bb",
   "metadata": {},
   "outputs": [],
   "source": [
    "class Charts:\n",
    "    def __init__(self, df, style='ggplot'):\n",
    "        self.df = df\n",
    "        self.style = plt.style.use(style)\n",
    "        self.labels = []\n",
    "\n",
    "\n",
    "    def barChart(self, variable, y_ajust=50, saved_graph='yes'):\n",
    "        self._convert_string(variable)\n",
    "        # Agrupar los datos en base a la variable seleccionada\n",
    "        agrupamiento = self.df.groupby(variable).count()\n",
    "        self._reset_values()\n",
    "        # Lista que acumula los labels de la gráfica\n",
    "        self._fill_labels(variable)\n",
    "\n",
    "        # Comprobación del tipo de datos\n",
    "        if isinstance(self.labels[0], str):\n",
    "            self.labels.sort()\n",
    "\n",
    "        # Código para la gráfica de barras\n",
    "        fig, ax = plt.subplots()\n",
    "        \n",
    "        ax.bar(self.labels, \n",
    "            agrupamiento.patient_id, width=1, \n",
    "            edgecolor='white', linewidth=0.7)\n",
    "\n",
    "        ax.set(xlim=(-0.5, len(self.labels)+0.5), xticks=self.labels,\n",
    "            ylim=(0, max(agrupamiento.patient_id)+50), \n",
    "                yticks=np.arange(1, max(agrupamiento.patient_id)+50,y_ajust),\n",
    "                title=f'Gráfica de {variable}')\n",
    "        \n",
    "\n",
    "        plt.xticks(rotation=90)\n",
    "\n",
    "        self._saved_image(f'{variable} barchart', saved_graph)\n",
    "\n",
    "        plt.show()\n",
    "\n",
    "    def pieChart(self, variable, saved_graph='yes'):\n",
    "        self._convert_string(variable)\n",
    "        x = self.df.groupby(variable).count().patient_id\n",
    "        self._reset_values()\n",
    "        self._fill_labels(variable)\n",
    "        \n",
    "            \n",
    "        colors = plt.get_cmap('Blues')(np.linspace(0.2, 0.7, len(x)))\n",
    "        fig, ax = plt.subplots()\n",
    "        ax.pie(x,labels=sorted(self.labels), colors=colors,autopct='%1.1f%%', radius=10, center=(8,8), \n",
    "              wedgeprops={'linewidth':1, 'edgecolor':'white'}, frame=True,textprops={'fontsize':7})\n",
    "        \"\"\"ax.set(xlim=(0, 25), xticks=np.arange(1, 25,5),\n",
    "               ylim=(0, 25), yticks=np.arange(1, 25,5))\"\"\"\n",
    "\n",
    "        self._saved_image(f'{variable} piechart',saved_graph)\n",
    "\n",
    "        plt.show()\n",
    "\n",
    "    def _fill_labels(self, variable):\n",
    "        for label in set(self.df[variable]):\n",
    "            self.labels.append(label)\n",
    "\n",
    "    def _saved_image(self, variable, saved_graph):\n",
    "        if saved_graph.lower() == 'yes':\n",
    "            plt.savefig(f'grafica{variable}.png', dpi=300, bbox_inches='tight')\n",
    "\n",
    "    def _convert_string(self, variable):\n",
    "        df[variable] = df[variable].astype(str)\n",
    "            \n",
    "    def _reset_values(self):\n",
    "        self.labels = []\n",
    "        "
   ]
  },
  {
   "cell_type": "code",
   "execution_count": 850,
   "id": "e57e26e3-b45e-4ed0-8a2c-7aae863d4bc8",
   "metadata": {},
   "outputs": [],
   "source": [
    "def choosenNaN(df):\n",
    "    for column in df.columns:\n",
    "        df[column] = df[column].fillna('NaN')\n",
    "    return df"
   ]
  },
  {
   "cell_type": "markdown",
   "id": "ddf9279b-cd71-454f-af92-571fec71dd45",
   "metadata": {},
   "source": [
    "# Descripción de las bases de datos"
   ]
  },
  {
   "cell_type": "markdown",
   "id": "32209e15-0153-4cc1-880a-db9bd9776a84",
   "metadata": {},
   "source": [
    "## CBIS-DDSM"
   ]
  },
  {
   "cell_type": "markdown",
   "id": "68bdd3af-f11f-4db1-ad96-b0d4c62b742e",
   "metadata": {},
   "source": [
    "Esta es una base de datos actualizada y estandarizada de la base de datos DDSM.\n",
    "\n",
    "La base de datos contiene 2,620 estudios y 10,239 imagenes mamograficas, los metadatos de la base está dividida por el tipo de anormalidad: Masa o calcificación, de cada anormalidad se tienen algunas variables en común como lo son:\n",
    "\n",
    "* patient_id\n",
    "* breast density\n",
    "* left or right breast\n",
    "* image view (proyecciones)\n",
    "   - Proyección CC (Cráneo-Caudal)\n",
    "   - Proyección MLO (Medio-Lateral Oblícua)\n",
    "* abnormality id\n",
    "* abnormality type\n",
    "* assessment (BIRADS)\n",
    "* pathology\n",
    "* subtlety\n",
    "  - 1 Muy sutil\n",
    "  - 2 Sutil\n",
    "  - 3 Moderadamente evidente\n",
    "  - 4 Evidente\n",
    "  - 5 Muy evidente\n",
    "* iamge file path\n",
    "* cropped image file path\n",
    "* ROI mask file path\n",
    "\n",
    "En caso de ser **calcificación** se tienen las siguiente varaibles:\n",
    "\n",
    "* calc type (describe el patrón morfológico): PLEOMORPHIC, AMORPHOUS, ...\n",
    "* cal distribution (Describe cómo están organbizadas espacialmente las calcificaciones dentro del tejido mamario): CLUSTERED, SEGMENTAL, REGIONAL,...\n",
    "\n",
    "En caso de ser **masa** se tienen las siguientes variables:\n",
    "\n",
    "* mass shape (Describe la forma geométrica de una masa): IRREGULAR, OVAL,...\n",
    "* mass margins (Describe el contorno o borde de una masa detectada en la mamografía): CIRCUMSCRIBED, SPICULATED, ILL_DEFINED,...\n",
    "\n",
    "[Base de datos CBIS-DDSM] (https://www.cancerimagingarchive.net/collection/cbis-ddsm/)"
   ]
  },
  {
   "cell_type": "markdown",
   "id": "b602efff-2515-42e5-859c-12bdcfdf13f5",
   "metadata": {},
   "source": [
    "## King Abdulaziz University Mammogram"
   ]
  },
  {
   "cell_type": "markdown",
   "id": "3d33185c-dbb5-46e7-92ff-d239352b4e44",
   "metadata": {},
   "source": [
    "La base de datos esta compuesta por un estudio en Arabia Saudita, es la primer base de datos clasificada en BIRADS de este país, la base de datos esta limitada por datos de abril de 2019 a marzo de 2020, la base de datos contiene 1416 casos y todos los casos de imagenes incluyen:\n",
    "\n",
    "* tipos de proyecciones de ambasa mamas\n",
    "  - CC\n",
    "  - MLO\n",
    "* clasificación BIRADS\n",
    "\n",
    "[Base de datos king Abdulaziz University Mammogram] (https://www.kaggle.com/datasets/asmaasaad/king-abdulaziz-university-mammogram-dataset?resource=download)"
   ]
  },
  {
   "cell_type": "markdown",
   "id": "e866ff8d-175e-437c-a0e8-cb35116aba9f",
   "metadata": {},
   "source": [
    "## INbreast"
   ]
  },
  {
   "cell_type": "markdown",
   "id": "1dd5af87-8865-45ba-9bf5-192ff3aaaa3d",
   "metadata": {},
   "source": [
    "ES una base de datos de Portugal, del centro hospitalario de S. Joao (CHSJ) en Porto, cuenta con 115 casos en total y 410 imagenes, de los cuales 90 casos son de mujeres con ambas mamas afectadas y 25 casos son de pacientes con masectomía igualmente dos imagenes por caso.\n",
    "\n",
    "Los datos recaudados son:\n",
    "\n",
    "* Laterality (L or R)\n",
    "* View (MLO or CC)\n",
    "* Acquisition date\n",
    "* File Name\n",
    "* ACR\n",
    "* BI-RADS\n",
    "* Mass\n",
    "* Micros\n",
    "* Distortion\n",
    "* Asymmetry\n",
    "* Findings notes (in Portuguese)\n",
    "* Other Notes\n",
    "* Lesion Annotation Status\n",
    "* Pectoral Muscle Annotation\n",
    "* Other annotations\n",
    "\n",
    "[Base de datos INbreast] (https://www.kaggle.com/datasets/ramanathansp20/inbreast-dataset)"
   ]
  },
  {
   "cell_type": "markdown",
   "id": "e867034c-fac8-4779-b878-c898d8890572",
   "metadata": {},
   "source": [
    "## MIAS"
   ]
  },
  {
   "cell_type": "markdown",
   "id": "c443ece8-eec9-40d8-bec0-b6dcf6a91243",
   "metadata": {},
   "source": [
    "Es una base de datos de Reino Unido el cual contiene 332 imagenes, la informaciónd de cada imagen esta dada por:\n",
    "\n",
    "* REFNUM (número de referencia)\n",
    "* BG (Caracter de tejido de fondo)\n",
    "* CLASS (clase de la anormalidad presente: calcificación, circ, spic,...)\n",
    "* SEVERITY (Severidad de la anormalidad: B, M)\n",
    "* X (Coordenada X del centro de la anormalidad)\n",
    "* Y (Coordenada Y del centro de la anormalidad)\n",
    "* RADIUS (radio aproximado (en pixeles) de un circulo que encierra a la anormalidad)\n",
    "\n",
    "[Base de datos MIAS] (https://www.kaggle.com/datasets/kmader/mias-mammography)"
   ]
  },
  {
   "cell_type": "markdown",
   "id": "ff3182b2-b05d-4b0b-a286-3427b2f0a2df",
   "metadata": {},
   "source": [
    "# Importación de las bases de datos"
   ]
  },
  {
   "cell_type": "code",
   "execution_count": 709,
   "id": "51a64b4b-a674-48ad-829c-c06f54613356",
   "metadata": {},
   "outputs": [],
   "source": [
    "# Base de datos de CBIS-DDSM: 4 archivos\n",
    "C_DDSM_calc_t = pd.read_csv('C:/Users/ma-nu/Downloads/breastCancer/CBIS-DDSM/calc_case_description_train_set.csv')\n",
    "C_DDSM_calc_test = pd.read_csv('C:/Users/ma-nu/Downloads/breastCancer/CBIS-DDSM/calc_case_description_test_set.csv')\n",
    "C_DDSM_mass_t = pd.read_csv('C:/Users/ma-nu/Downloads/breastCancer/CBIS-DDSM/mass_case_description_train_set.csv')\n",
    "C_DDSM_mass_test = pd.read_csv('C:/Users/ma-nu/Downloads/breastCancer/CBIS-DDSM/mass_case_description_test_set.csv')"
   ]
  },
  {
   "cell_type": "code",
   "execution_count": 710,
   "id": "699ef88e-d538-40c3-9016-3f5169800f83",
   "metadata": {},
   "outputs": [],
   "source": [
    "# Base de datos de Abdulaziz University Mammogram\n",
    "abdulaziz = pd.read_csv('C:/Users/ma-nu/Downloads/breastCancer/King Adbulaziz University Mammogram/BC with ultrasound.csv', sep=';')"
   ]
  },
  {
   "cell_type": "code",
   "execution_count": 711,
   "id": "355492e4-04de-4005-9cda-85f72d72e3b4",
   "metadata": {},
   "outputs": [],
   "source": [
    "# Base de datos INbreast\n",
    "inbreast = pd.read_csv('C:/Users/ma-nu/Downloads/breastCancer/Inbreast/INbreast_complete.csv', sep=';')"
   ]
  },
  {
   "cell_type": "code",
   "execution_count": 712,
   "id": "60a083d1-106a-444e-a6a5-2dc60afaf5ed",
   "metadata": {},
   "outputs": [],
   "source": [
    "# Base de datos MIAS\n",
    "mias = pd.read_csv('C:/Users/ma-nu/Downloads/breastCancer/MIAS/MIAS_Format_correct.csv', sep=';')"
   ]
  },
  {
   "cell_type": "markdown",
   "id": "bcf65db1-f1cc-4846-9d48-1d2900e9213c",
   "metadata": {},
   "source": [
    "## Combinación de la base de datos de CBIS-DDSM"
   ]
  },
  {
   "cell_type": "markdown",
   "id": "14219777-c754-47ca-8ff7-b2fa2cb64906",
   "metadata": {},
   "source": [
    "Antes de combinar los datos de los diferentes archivos es necesario que renombremos las columnas de 'breast_density' por 'breast density', para poder tener un mejor manejo de la información:"
   ]
  },
  {
   "cell_type": "code",
   "execution_count": 715,
   "id": "6f990430-efab-4129-9857-17e85cf539f9",
   "metadata": {},
   "outputs": [],
   "source": [
    "# Solo se renombraran las columnas de los archivo que contengan la anormalidad de masa\n",
    "C_DDSM_mass_t_formated = C_DDSM_mass_t.rename(columns={'breast_density':'breast density'})\n",
    "C_DDSM_mass_test_formated = C_DDSM_mass_test.rename(columns={'breast_density':'breast density'})"
   ]
  },
  {
   "cell_type": "markdown",
   "id": "47053dc8-da80-4e3b-bc2a-07fcf87f999f",
   "metadata": {},
   "source": [
    "Una vez renombradas las columnas podemos hacer la concatenación de los datos:"
   ]
  },
  {
   "cell_type": "code",
   "execution_count": 717,
   "id": "afad8fa9-2c9d-40d7-a9f1-25265d5e8598",
   "metadata": {},
   "outputs": [],
   "source": [
    "CBIS_DDSM = pd.concat([C_DDSM_calc_t, C_DDSM_calc_test, C_DDSM_mass_t_formated, C_DDSM_mass_test_formated])"
   ]
  },
  {
   "cell_type": "markdown",
   "id": "3ada46a8-33fe-4408-94c3-8c3c726efe3b",
   "metadata": {},
   "source": [
    "Toda la información de la base de datos de CBIS-DDSM se tiene en una tabla, independientemente del tipo de anormalidad."
   ]
  },
  {
   "cell_type": "markdown",
   "id": "87153142-3d0e-498a-aa4b-5673caad0d83",
   "metadata": {},
   "source": [
    "# Homogeneizar los términos médicos"
   ]
  },
  {
   "cell_type": "markdown",
   "id": "81f7842a-869b-4960-a5bf-6e5eb75cbed9",
   "metadata": {},
   "source": [
    "Antes de hacer combinar las columnas de cada base de datos es importante agregar una columna con la información de las diferentes bases de datos, es decir, el nombre de la base de datos, por lo que la siguiente tarea es agregar a cada base de datos una columna que se llame `DBName`."
   ]
  },
  {
   "cell_type": "code",
   "execution_count": 721,
   "id": "0cb66bdb-71bb-46b1-8057-60213cc5fd45",
   "metadata": {},
   "outputs": [],
   "source": [
    "# Para la base de CBIS_DDSM\n",
    "CBIS_DDSM['DBName']='CBIS-DDSM'"
   ]
  },
  {
   "cell_type": "code",
   "execution_count": 722,
   "id": "c0cbce93-9928-48d0-9eca-b020d4de2def",
   "metadata": {},
   "outputs": [],
   "source": [
    "# Para la base de Abdulaziz\n",
    "abdulaziz['DBName']='Abdulaziz'"
   ]
  },
  {
   "cell_type": "code",
   "execution_count": 723,
   "id": "5a7df2df-65ac-44a5-be3b-4d2be63c5f85",
   "metadata": {},
   "outputs": [],
   "source": [
    "# Para la base de INbreast\n",
    "inbreast['DBName']='INbreast'"
   ]
  },
  {
   "cell_type": "code",
   "execution_count": 724,
   "id": "7235c9fe-0e6c-4559-befb-a63f4fa756c7",
   "metadata": {},
   "outputs": [],
   "source": [
    "# Base de datos MIAS\n",
    "mias['DBName']='MIAS'"
   ]
  },
  {
   "cell_type": "markdown",
   "id": "dd1af546-c338-439f-b80d-f8f958d88437",
   "metadata": {},
   "source": [
    "## Condiciones de combinación de tablas"
   ]
  },
  {
   "cell_type": "markdown",
   "id": "0bc1b536-5618-443b-949f-e25f31866d8d",
   "metadata": {},
   "source": [
    "Vamos a homogeneizar los términos médicos para poder hacer la unión de las bases de datos, en primer lugar, vamos a verificar qué columnas almacenan la misma información. Entre los términos médicos que deben de homogeneizarse son:\n",
    "\n",
    "* patient ID: Todas las bases de datos deben de contener el paciente ID sin modificarlas para conservar la información asociada a las mamografías originales, la columna debe de llamarse `patient_id`\n",
    "* Breast Laterality: esta columna representa el lado de la mama que representa la mamografía la columna debe de llamarse `breast_laterality`\n",
    "* View: representa las proyecciones, debe de llamarse `image_view`\n",
    "* Assessment: representa la clasificación en BIRADS, debe de llamarse `assessment`\n",
    "* pathology: representa si la anormalidad es benigna o maligna, debe de llamarse `pathology`\n",
    "\n",
    "Dadas estas condiciones debe de cambiarse los nombres de las columnas para que exista una buena relación entre las tablas."
   ]
  },
  {
   "cell_type": "markdown",
   "id": "9ac7d83c-f199-45c1-ac93-37bb7fb1a41a",
   "metadata": {},
   "source": [
    "Antes de realizar los cambios de nombre en las columnas notemos que existen tablas que no están completamente atomizados, es decir, que contienen más de un dato dentro de las celdas lo que puede causar confusión o ambigüedad por parte de los usuarios, para nuestro caso, la tabla que no tiene una estructura del todo correcta es la `Abdulaziz data set` por lo que se cambiará la estructura de la tabla, en particular las columnas `right mammogram` y `left mammogram`"
   ]
  },
  {
   "cell_type": "markdown",
   "id": "cdfa1f4e-6171-4ae5-8bdb-9606c12da636",
   "metadata": {},
   "source": [
    "### Cambiar la estructura de la base de datos de abdulaziz"
   ]
  },
  {
   "cell_type": "markdown",
   "id": "850335af-70a8-4dce-afb9-0ee170d82149",
   "metadata": {},
   "source": [
    "Para realizar el cambio de la estructura notemos que la tabla actual está estructurada como:\n",
    "\n",
    "|date|patientID|patient No| DVD NO| Right Mammogram| Left Mammogram| Right Ultrasound | Left Ultrasound| DBName|\n",
    "\n",
    "\n",
    "Agregaremos nuevas columnas para que la información pueda ser compatible con las estructuras de las demas tablas como sigue:\n",
    "\n",
    "|date|patientID|patient No| DVD NO| Laterality| assessment| DBName|\n",
    "\n",
    "Entonces de la siguiente manera haremos eso:"
   ]
  },
  {
   "cell_type": "code",
   "execution_count": 730,
   "id": "e16f0aa6-e6a8-4645-9c91-59d7d56df55f",
   "metadata": {},
   "outputs": [],
   "source": [
    "# La mofidicación de la tabla se relalizó en un script de Python llamado modifiedDF.py\n",
    "abdulaziz_modificate = pd.read_csv('C:/Users/ma-nu/Downloads/breastCancer/King Adbulaziz University Mammogram/BC_abdulaziz_correct.csv', sep = ';')\n",
    "abdulaziz_modificate['DBName'] = 'abdulaziz'"
   ]
  },
  {
   "cell_type": "markdown",
   "id": "92b4feb7-f4a6-452b-971e-c854ebe0b48b",
   "metadata": {},
   "source": [
    "Cambiemos los nombres de las columnas necesarias de las diferentes bases de datos para homogeneizar los términos médicos de acuerdo a lo establecido en las condiciones:"
   ]
  },
  {
   "cell_type": "code",
   "execution_count": 732,
   "id": "35f51b9f-bd56-4eb3-9a7c-f0716fd4adf7",
   "metadata": {},
   "outputs": [],
   "source": [
    "# Base de datos CBIS-DDSM, cambiamos la columa de left or right breast por breast_laterality\n",
    "CBIS_DDSM = CBIS_DDSM.rename(columns={'left or right breast':'breast_laterality'})"
   ]
  },
  {
   "cell_type": "code",
   "execution_count": 733,
   "id": "a73182bd-ab2c-4824-bb8c-16f7beaea1bf",
   "metadata": {},
   "outputs": [],
   "source": [
    "\"\"\"Para la base de datos de Abdulaziz se cambian los nombres de las columnas: \n",
    "patientID por patient_id, laterality por breast laterality\"\"\"\n",
    "abdulaziz_modificate = abdulaziz_modificate.rename(columns={'patientID':'patient_id', 'laterality':'breast_laterality'})"
   ]
  },
  {
   "cell_type": "code",
   "execution_count": 734,
   "id": "5db089ea-c633-480c-9a9b-6142b961e6c6",
   "metadata": {},
   "outputs": [],
   "source": [
    "\"\"\"Para la base de datos INbreast:\n",
    "Patient ID por patient_id\n",
    "Laterality por breast_laterality\n",
    "View por image_view\n",
    "Bi-Rads por assessment\n",
    "\"\"\"\n",
    "inbreast = inbreast.rename(columns={'Patient ID':'patient_id', 'Laterality':'breast_laterality', 'View':'image_view', 'Bi-Rads':'assessment'})"
   ]
  },
  {
   "cell_type": "code",
   "execution_count": 735,
   "id": "90e95429-0fcd-4509-9794-96d30669f2b3",
   "metadata": {},
   "outputs": [],
   "source": [
    "# en este caso cambiaremos REFNUM por 'patient_id' y SEVERITY por 'pathology'\n",
    "mias = mias.rename(columns={'REFNUM':'patient_id', 'SEVERITY':'pathology'})"
   ]
  },
  {
   "cell_type": "markdown",
   "id": "154e65d0-b318-4be7-8909-d19471056c57",
   "metadata": {},
   "source": [
    "Notemos que todavía tendremos problemas cuando se haga el análisis o la unión de la base de datos debido a que los datos que acumula laterality_breast no están homogeneizados en la base de datos CBIS-DDSM, ya que están representados por 'RIGHT' o 'LEFT' mientras que la base de datos de Abdulaziz o INbreast los datos los acumulados están como 'R' o 'L', algo similar sucede con la patología, en este caso lo mejor sería manejarlos de manera homologada para evitar problemas en el análisis por lo que se hará lo siguiente:\n",
    "\n",
    "1. Para resolver el primer caso será necesario modificar la base de datos de CBIS-DDSM a 'R' o 'L'\n",
    "2. Para resolver el segundo caso es necesario modificar igualmente CBIS-DDSM a 'B', 'M'"
   ]
  },
  {
   "cell_type": "code",
   "execution_count": 737,
   "id": "73aad813-dc43-4ba7-8e55-3e5341f2eaa6",
   "metadata": {},
   "outputs": [],
   "source": [
    "copy_CBIS_DDSM = CBIS_DDSM\n",
    "\n",
    "copy_CBIS_DDSM.breast_laterality = copy_CBIS_DDSM.breast_laterality.replace({'RIGHT':'R', 'LEFT':'L'})\n",
    "copy_CBIS_DDSM.pathology = copy_CBIS_DDSM.pathology.replace({'MALIGNANT':'M', 'BENIGN':'B'})"
   ]
  },
  {
   "cell_type": "markdown",
   "id": "6713ad74-ca0e-4e6e-99bd-6ee3dbc7b6f7",
   "metadata": {},
   "source": [
    "Ya estamos en condiciones de hacer la unión de las bases de datos."
   ]
  },
  {
   "cell_type": "code",
   "execution_count": 739,
   "id": "88f58b17-9d3b-4069-afb5-dfaa619c5f00",
   "metadata": {},
   "outputs": [],
   "source": [
    "df = pd.concat([copy_CBIS_DDSM,abdulaziz_modificate,inbreast,mias])"
   ]
  },
  {
   "cell_type": "markdown",
   "id": "ddb26906-3e4d-4bc2-9966-88df08f27676",
   "metadata": {},
   "source": [
    "Convertir en un archivo csv:"
   ]
  },
  {
   "cell_type": "code",
   "execution_count": 741,
   "id": "590d7153-f5a4-429d-938b-323f3867d066",
   "metadata": {},
   "outputs": [],
   "source": [
    "df.to_csv('C:/Users/ma-nu/Downloads/breastCancer/DB_global.csv', index=False)"
   ]
  },
  {
   "cell_type": "code",
   "execution_count": 742,
   "id": "f52c9c3a-9bf3-4e6a-a0f0-18a708f3a856",
   "metadata": {},
   "outputs": [],
   "source": [
    "# Convertir todo a string para evitar problemas en los assessment\n",
    "df.assessment = df.assessment.astype(str)"
   ]
  },
  {
   "cell_type": "markdown",
   "id": "daa6cefa-e025-4aac-aaba-01575e58516f",
   "metadata": {},
   "source": [
    "# Análisis de los datos"
   ]
  },
  {
   "cell_type": "markdown",
   "id": "0897e5f0-33b8-4f25-a52b-9a7a5b915fe0",
   "metadata": {},
   "source": [
    "En esta sección se verá todo lo relacionado al análisis por lo que era de suma importancia los pasos anteriores.\n",
    "\n",
    "Verifiquemos las variables que contiene el data frame:"
   ]
  },
  {
   "cell_type": "code",
   "execution_count": 745,
   "id": "ccc618a8-635c-4a51-88d3-8ebe3ac3cef0",
   "metadata": {},
   "outputs": [
    {
     "name": "stdout",
     "output_type": "stream",
     "text": [
      "1. patient_id\n",
      "2. breast density\n",
      "3. breast_laterality\n",
      "4. image view\n",
      "5. abnormality id\n",
      "6. abnormality type\n",
      "7. calc type\n",
      "8. calc distribution\n",
      "9. assessment\n",
      "10. pathology\n",
      "11. subtlety\n",
      "12. image file path\n",
      "13. cropped image file path\n",
      "14. ROI mask file path\n",
      "15. mass shape\n",
      "16. mass margins\n",
      "17. DBName\n",
      "18. date\n",
      "19. patient\n",
      "20. DVD No\n",
      "21. Patient age\n",
      "22. image_view\n",
      "23. Acquisition date\n",
      "24. File Name\n",
      "25. ACR\n",
      "26. Mass \n",
      "27. Micros\n",
      "28. Distortion\n",
      "29. Asymmetry\n",
      "30. Findings Notes (in Portuguese)\n",
      "31. Other Notes\n",
      "32. Lesion Annotation Status\n",
      "33. Pectoral Muscle Annotation\n",
      "34. Other Annotations\n",
      "35. BG\n",
      "36. CLASS\n",
      "37. X\n",
      "38. Y\n",
      "39. RADIUS\n"
     ]
    }
   ],
   "source": [
    "for i, var in enumerate(df.columns):\n",
    "    print(f'{i+1}. {var}')"
   ]
  },
  {
   "cell_type": "markdown",
   "id": "acd9f797-6127-4cd4-a7b2-afb2d8ae4846",
   "metadata": {},
   "source": [
    "Veamos como se distribuyen las mamografías de acuerdo a cada base de datos:"
   ]
  },
  {
   "cell_type": "code",
   "execution_count": 747,
   "id": "45ecd50f-9a9d-4840-9537-a3fb5181d343",
   "metadata": {},
   "outputs": [
    {
     "data": {
      "text/plain": [
       "DBName\n",
       "CBIS-DDSM    3568\n",
       "INbreast      410\n",
       "MIAS          330\n",
       "abdulaziz    2986\n",
       "Name: patient_id, dtype: int64"
      ]
     },
     "execution_count": 747,
     "metadata": {},
     "output_type": "execute_result"
    }
   ],
   "source": [
    "df.groupby('DBName').count().patient_id"
   ]
  },
  {
   "cell_type": "code",
   "execution_count": 797,
   "id": "21e967fc-5bc6-4d7d-a6e1-8ceafdd36d17",
   "metadata": {},
   "outputs": [],
   "source": [
    "# Creamos una clase para gráficar los datos\n",
    "df_charts = Charts(df)"
   ]
  },
  {
   "cell_type": "code",
   "execution_count": 799,
   "id": "8d326a36-cd23-4d13-a225-c8d50780984e",
   "metadata": {},
   "outputs": [
    {
     "data": {
      "image/png": "[encoded data removed]",
      "text/plain": [
       "<Figure size 160x160 with 1 Axes>"
      ]
     },
     "metadata": {},
     "output_type": "display_data"
    }
   ],
   "source": [
    "df_charts.pieChart('DBName')"
   ]
  },
  {
   "cell_type": "markdown",
   "id": "34face5f-bda9-4778-bf57-a3b1292318ed",
   "metadata": {},
   "source": [
    "Podemos notar que los datos se distribuyen de acuerdo al porcentaje en:\n",
    "\n",
    "+ CBIS-DDSM (40.9 %)\n",
    "+ adbulaziz (48.9 %)\n",
    "+ INbreast (5.6%)\n",
    "+ MIAS (4.5%)"
   ]
  },
  {
   "cell_type": "markdown",
   "id": "b30ac798-dfb7-4d23-b813-76ab60cbf0a6",
   "metadata": {},
   "source": [
    "Verifiquemos la información en general del data frame:"
   ]
  },
  {
   "cell_type": "code",
   "execution_count": 752,
   "id": "bb18d5e4-a4d3-4a14-a210-7d0446ef9379",
   "metadata": {},
   "outputs": [
    {
     "name": "stdout",
     "output_type": "stream",
     "text": [
      "<class 'pandas.core.frame.DataFrame'>\n",
      "Index: 7294 entries, 0 to 329\n",
      "Data columns (total 39 columns):\n",
      " #   Column                          Non-Null Count  Dtype  \n",
      "---  ------                          --------------  -----  \n",
      " 0   patient_id                      7294 non-null   object \n",
      " 1   breast density                  3568 non-null   float64\n",
      " 2   breast_laterality               6964 non-null   object \n",
      " 3   image view                      3568 non-null   object \n",
      " 4   abnormality id                  3568 non-null   float64\n",
      " 5   abnormality type                3568 non-null   object \n",
      " 6   calc type                       1848 non-null   object \n",
      " 7   calc distribution               1433 non-null   object \n",
      " 8   assessment                      7294 non-null   object \n",
      " 9   pathology                       3691 non-null   object \n",
      " 10  subtlety                        3568 non-null   float64\n",
      " 11  image file path                 3568 non-null   object \n",
      " 12  cropped image file path         3568 non-null   object \n",
      " 13  ROI mask file path              3568 non-null   object \n",
      " 14  mass shape                      1692 non-null   object \n",
      " 15  mass margins                    1636 non-null   object \n",
      " 16  DBName                          7294 non-null   object \n",
      " 17  date                            2986 non-null   object \n",
      " 18  patient                         2986 non-null   object \n",
      " 19  DVD No                          2986 non-null   float64\n",
      " 20  Patient age                     410 non-null    object \n",
      " 21  image_view                      410 non-null    object \n",
      " 22  Acquisition date                410 non-null    float64\n",
      " 23  File Name                       410 non-null    float64\n",
      " 24  ACR                             410 non-null    object \n",
      " 25  Mass                            108 non-null    object \n",
      " 26  Micros                          308 non-null    object \n",
      " 27  Distortion                      4 non-null      object \n",
      " 28  Asymmetry                       14 non-null     object \n",
      " 29  Findings Notes (in Portuguese)  410 non-null    object \n",
      " 30  Other Notes                     1 non-null      object \n",
      " 31  Lesion Annotation Status        71 non-null     object \n",
      " 32  Pectoral Muscle Annotation      6 non-null      object \n",
      " 33  Other Annotations               7 non-null      object \n",
      " 34  BG                              330 non-null    object \n",
      " 35  CLASS                           330 non-null    object \n",
      " 36  X                               119 non-null    float64\n",
      " 37  Y                               119 non-null    float64\n",
      " 38  RADIUS                          119 non-null    float64\n",
      "dtypes: float64(9), object(30)\n",
      "memory usage: 2.2+ MB\n"
     ]
    }
   ],
   "source": [
    "df.info()"
   ]
  },
  {
   "cell_type": "markdown",
   "id": "95dd0d83-29f7-4d77-a188-eefd7d10cd01",
   "metadata": {},
   "source": [
    "En la primera columna nos otorga el índice de cada variable, en el segundo el nombre de la variable, la tercera columna nos indica cuántos datos no son nulos y en la cuarta columna el tipo de dato que se acumula en la variable.\n",
    "\n",
    "Veamos los valores nulos que se tienen en cada variable:"
   ]
  },
  {
   "cell_type": "code",
   "execution_count": 754,
   "id": "1903cafc-c14e-4b3d-8833-caeb7918b3d6",
   "metadata": {},
   "outputs": [
    {
     "data": {
      "text/plain": [
       "patient_id                           0\n",
       "breast density                    3726\n",
       "breast_laterality                  330\n",
       "image view                        3726\n",
       "abnormality id                    3726\n",
       "abnormality type                  3726\n",
       "calc type                         5446\n",
       "calc distribution                 5861\n",
       "assessment                           0\n",
       "pathology                         3603\n",
       "subtlety                          3726\n",
       "image file path                   3726\n",
       "cropped image file path           3726\n",
       "ROI mask file path                3726\n",
       "mass shape                        5602\n",
       "mass margins                      5658\n",
       "DBName                               0\n",
       "date                              4308\n",
       "patient                           4308\n",
       "DVD No                            4308\n",
       "Patient age                       6884\n",
       "image_view                        6884\n",
       "Acquisition date                  6884\n",
       "File Name                         6884\n",
       "ACR                               6884\n",
       "Mass                              7186\n",
       "Micros                            6986\n",
       "Distortion                        7290\n",
       "Asymmetry                         7280\n",
       "Findings Notes (in Portuguese)    6884\n",
       "Other Notes                       7293\n",
       "Lesion Annotation Status          7223\n",
       "Pectoral Muscle Annotation        7288\n",
       "Other Annotations                 7287\n",
       "BG                                6964\n",
       "CLASS                             6964\n",
       "X                                 7175\n",
       "Y                                 7175\n",
       "RADIUS                            7175\n",
       "dtype: int64"
      ]
     },
     "execution_count": 754,
     "metadata": {},
     "output_type": "execute_result"
    }
   ],
   "source": [
    "df.isnull().sum()"
   ]
  },
  {
   "cell_type": "markdown",
   "id": "7b7b8e7d-f2a8-4d8e-bbef-1ea43fee0efc",
   "metadata": {},
   "source": [
    "## Tratamiento de los datos nulos para la interpretación de análisis"
   ]
  },
  {
   "cell_type": "markdown",
   "id": "67c0caf8-f39e-4079-8073-61552ee1ba81",
   "metadata": {},
   "source": [
    "Vamos a ejecutar una función que se encarga de reemplazar todos los datos nulos de cada columna por 'NaN', para una mejor interpretación al momento de hacer los análisis respectivos.\n",
    "\n",
    "Trabajaremos con una copia de la data frame para mantener la integridad del original."
   ]
  },
  {
   "cell_type": "code",
   "execution_count": 856,
   "id": "5fdf69e6-7fb7-4ab3-9f68-24f50d1a281d",
   "metadata": {},
   "outputs": [],
   "source": [
    "df_copy = choosenNaN(df[:])"
   ]
  },
  {
   "cell_type": "markdown",
   "id": "c1aa201e-a0fc-4732-8c9f-ed57c51815f5",
   "metadata": {},
   "source": [
    "Creamos un nuevo objeto de tipo gráfica para poder representar los análsis:"
   ]
  },
  {
   "cell_type": "code",
   "execution_count": 913,
   "id": "68b243be-f03f-4b8a-be68-899ba792bfc3",
   "metadata": {},
   "outputs": [],
   "source": [
    "df_charts_copy = Charts(df_copy)"
   ]
  },
  {
   "cell_type": "markdown",
   "id": "3332fcb5-6ca0-4f99-8f23-16a13ea1b39c",
   "metadata": {},
   "source": [
    "## Distribución de acuerdo a BIRADS"
   ]
  },
  {
   "cell_type": "code",
   "execution_count": 915,
   "id": "3755c35e-53d9-43c5-b1c8-08245e462abd",
   "metadata": {},
   "outputs": [
    {
     "data": {
      "text/plain": [
       "assessment\n",
       "0       635\n",
       "1       999\n",
       "2      2400\n",
       "3       588\n",
       "4      1655\n",
       "4a       13\n",
       "4b        8\n",
       "4c       22\n",
       "5       635\n",
       "6         9\n",
       "nan     330\n",
       "Name: patient_id, dtype: int64"
      ]
     },
     "execution_count": 915,
     "metadata": {},
     "output_type": "execute_result"
    }
   ],
   "source": [
    "df_copy.groupby('assessment').count().patient_id"
   ]
  },
  {
   "cell_type": "code",
   "execution_count": 917,
   "id": "02d9171f-7a10-4e22-b37c-c89eb156298f",
   "metadata": {},
   "outputs": [
    {
     "data": {
      "image/png": "[encoded data removed]",
      "text/plain": [
       "<Figure size 160x160 with 1 Axes>"
      ]
     },
     "metadata": {},
     "output_type": "display_data"
    }
   ],
   "source": [
    "df_charts_copy.barChart('assessment', y_ajust = 200, saved_graph='yes')"
   ]
  },
  {
   "cell_type": "code",
   "execution_count": 919,
   "id": "1e779d49-5a58-411e-b7c9-e055543a272b",
   "metadata": {},
   "outputs": [
    {
     "data": {
      "image/png": "[encoded data removed]",
      "text/plain": [
       "<Figure size 160x160 with 1 Axes>"
      ]
     },
     "metadata": {},
     "output_type": "display_data"
    }
   ],
   "source": [
    "df_charts_copy.pieChart('assessment')"
   ]
  },
  {
   "cell_type": "code",
   "execution_count": 921,
   "id": "ff37a295-4192-408c-b319-064d829373e5",
   "metadata": {},
   "outputs": [
    {
     "data": {
      "text/plain": [
       "pathology\n",
       "B                          1498\n",
       "BENIGN_WITHOUT_CALLBACK     682\n",
       "M                          1511\n",
       "NaN                        3603\n",
       "Name: patient_id, dtype: int64"
      ]
     },
     "execution_count": 921,
     "metadata": {},
     "output_type": "execute_result"
    }
   ],
   "source": [
    "df_copy.groupby('pathology').count().patient_id"
   ]
  },
  {
   "cell_type": "code",
   "execution_count": 923,
   "id": "2d675cdc-b322-4271-ba58-ef77500a8f71",
   "metadata": {},
   "outputs": [
    {
     "data": {
      "image/png": "[encoded data removed]",
      "text/plain": [
       "<Figure size 160x160 with 1 Axes>"
      ]
     },
     "metadata": {},
     "output_type": "display_data"
    }
   ],
   "source": [
    "df_charts_copy.pieChart('pathology')"
   ]
  },
  {
   "cell_type": "code",
   "execution_count": 949,
   "id": "5da1d801-258c-4698-a8fb-d46edd062055",
   "metadata": {
    "scrolled": true
   },
   "outputs": [
    {
     "data": {
      "image/png": "[encoded data removed]",
      "text/plain": [
       "<Figure size 160x160 with 1 Axes>"
      ]
     },
     "metadata": {},
     "output_type": "display_data"
    }
   ],
   "source": [
    "df_charts_copy.pieChart('abnormality type')"
   ]
  },
  {
   "cell_type": "code",
   "execution_count": 941,
   "id": "8d6c7f59-4235-49f6-808f-fe8400e38a10",
   "metadata": {},
   "outputs": [
    {
     "data": {
      "text/plain": [
       "0      3.0\n",
       "1      3.0\n",
       "2      4.0\n",
       "3      4.0\n",
       "4      1.0\n",
       "      ... \n",
       "325    NaN\n",
       "326    NaN\n",
       "327    NaN\n",
       "328    NaN\n",
       "329    NaN\n",
       "Name: breast density, Length: 7294, dtype: object"
      ]
     },
     "execution_count": 941,
     "metadata": {},
     "output_type": "execute_result"
    }
   ],
   "source": [
    "type"
   ]
  },
  {
   "cell_type": "code",
   "execution_count": 897,
   "id": "d153a92d-fe34-46c0-8190-56100ab64e10",
   "metadata": {},
   "outputs": [
    {
     "data": {
      "text/plain": [
       "Index(['patient_id', 'breast density', 'breast_laterality', 'image view',\n",
       "       'abnormality id', 'abnormality type', 'calc type', 'calc distribution',\n",
       "       'assessment', 'pathology', 'subtlety', 'image file path',\n",
       "       'cropped image file path', 'ROI mask file path', 'mass shape',\n",
       "       'mass margins', 'DBName', 'date', 'patient', 'DVD No', 'Patient age',\n",
       "       'image_view', 'Acquisition date', 'File Name', 'ACR', 'Mass ', 'Micros',\n",
       "       'Distortion', 'Asymmetry', 'Findings Notes (in Portuguese)',\n",
       "       'Other Notes', 'Lesion Annotation Status', 'Pectoral Muscle Annotation',\n",
       "       'Other Annotations', 'BG', 'CLASS', 'X', 'Y', 'RADIUS'],\n",
       "      dtype='object')"
      ]
     },
     "execution_count": 897,
     "metadata": {},
     "output_type": "execute_result"
    }
   ],
   "source": [
    "df_copy.columns"
   ]
  },
  {
   "cell_type": "code",
   "execution_count": 760,
   "id": "fb65a280-9398-4d70-bb0c-4eb62b9e3137",
   "metadata": {},
   "outputs": [
    {
     "data": {
      "text/plain": [
       "['Solarize_Light2',\n",
       " '_classic_test_patch',\n",
       " '_mpl-gallery',\n",
       " '_mpl-gallery-nogrid',\n",
       " 'bmh',\n",
       " 'classic',\n",
       " 'dark_background',\n",
       " 'fast',\n",
       " 'fivethirtyeight',\n",
       " 'ggplot',\n",
       " 'grayscale',\n",
       " 'seaborn-v0_8',\n",
       " 'seaborn-v0_8-bright',\n",
       " 'seaborn-v0_8-colorblind',\n",
       " 'seaborn-v0_8-dark',\n",
       " 'seaborn-v0_8-dark-palette',\n",
       " 'seaborn-v0_8-darkgrid',\n",
       " 'seaborn-v0_8-deep',\n",
       " 'seaborn-v0_8-muted',\n",
       " 'seaborn-v0_8-notebook',\n",
       " 'seaborn-v0_8-paper',\n",
       " 'seaborn-v0_8-pastel',\n",
       " 'seaborn-v0_8-poster',\n",
       " 'seaborn-v0_8-talk',\n",
       " 'seaborn-v0_8-ticks',\n",
       " 'seaborn-v0_8-white',\n",
       " 'seaborn-v0_8-whitegrid',\n",
       " 'tableau-colorblind10']"
      ]
     },
     "execution_count": 760,
     "metadata": {},
     "output_type": "execute_result"
    }
   ],
   "source": [
    "plt.style.available"
   ]
  }
 ],
 "metadata": {
  "kernelspec": {
   "display_name": "Python [conda env:base] *",
   "language": "python",
   "name": "conda-base-py"
  },
  "language_info": {
   "codemirror_mode": {
    "name": "ipython",
    "version": 3
   },
   "file_extension": ".py",
   "mimetype": "text/x-python",
   "name": "python",
   "nbconvert_exporter": "python",
   "pygments_lexer": "ipython3",
   "version": "3.12.7"
  }
 },
 "nbformat": 4,
 "nbformat_minor": 5
}
