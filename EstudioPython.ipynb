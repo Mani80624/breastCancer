{
 "cells": [
  {
   "cell_type": "markdown",
   "id": "d6e7b0cb-a2f9-46b9-86e8-6bc1c65fc208",
   "metadata": {},
   "source": [
    "# Descripción de la bases de datos"
   ]
  },
  {
   "cell_type": "markdown",
   "id": "f5499c78-6fd4-424b-a183-9f9bf7cd2f6a",
   "metadata": {},
   "source": [
    "## DDSM"
   ]
  }
 ],
 "metadata": {
  "kernelspec": {
   "display_name": "Python 3 (ipykernel)",
   "language": "python",
   "name": "python3"
  },
  "language_info": {
   "codemirror_mode": {
    "name": "ipython",
    "version": 3
   },
   "file_extension": ".py",
   "mimetype": "text/x-python",
   "name": "python",
   "nbconvert_exporter": "python",
   "pygments_lexer": "ipython3",
   "version": "3.12.7"
  }
 },
 "nbformat": 4,
 "nbformat_minor": 5
}
